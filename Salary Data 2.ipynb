{
 "cells": [
  {
   "cell_type": "code",
   "execution_count": 1,
   "id": "82e06bbc",
   "metadata": {},
   "outputs": [],
   "source": [
    "# Regular EDA and Plotting LIbraries\n",
    "import numpy as np\n",
    "import pandas as pd\n",
    "import matplotlib.pyplot as plt\n",
    "import seaborn as sns\n",
    "\n",
    "# For plots to appear in the notebook\n",
    "%matplotlib inline\n",
    "\n",
    "# Models from Scikit Learn\n",
    "from sklearn.linear_model import Ridge\n",
    "from sklearn.linear_model import Lasso\n",
    "from sklearn.linear_model import LinearRegression\n",
    "from sklearn.ensemble import RandomForestRegressor\n",
    "\n",
    "# Model Evaluators\n",
    "from sklearn.model_selection import train_test_split, cross_val_score\n",
    "from sklearn.model_selection import RandomizedSearchCV, GridSearchCV\n",
    "from sklearn.metrics import precision_score, recall_score, f1_score\n",
    "from sklearn.metrics import r2_score, mean_absolute_error, mean_squared_error\n",
    "from sklearn.metrics import accuracy_score\n",
    "from sklearn.metrics import confusion_matrix, classification_report"
   ]
  },
  {
   "cell_type": "markdown",
   "id": "72495ab3",
   "metadata": {},
   "source": [
    "### Import Data"
   ]
  },
  {
   "cell_type": "code",
   "execution_count": 2,
   "id": "c3461a75",
   "metadata": {},
   "outputs": [],
   "source": [
    "salaries = pd.read_csv('Salary_Data.csv')"
   ]
  },
  {
   "cell_type": "markdown",
   "id": "055c97cf",
   "metadata": {},
   "source": [
    "### Check the Head of the Data Frame"
   ]
  },
  {
   "cell_type": "code",
   "execution_count": 3,
   "id": "773a2124",
   "metadata": {},
   "outputs": [
    {
     "data": {
      "text/html": [
       "<div>\n",
       "<style scoped>\n",
       "    .dataframe tbody tr th:only-of-type {\n",
       "        vertical-align: middle;\n",
       "    }\n",
       "\n",
       "    .dataframe tbody tr th {\n",
       "        vertical-align: top;\n",
       "    }\n",
       "\n",
       "    .dataframe thead th {\n",
       "        text-align: right;\n",
       "    }\n",
       "</style>\n",
       "<table border=\"1\" class=\"dataframe\">\n",
       "  <thead>\n",
       "    <tr style=\"text-align: right;\">\n",
       "      <th></th>\n",
       "      <th>Age</th>\n",
       "      <th>Gender</th>\n",
       "      <th>Education Level</th>\n",
       "      <th>Job Title</th>\n",
       "      <th>Years of Experience</th>\n",
       "      <th>Salary</th>\n",
       "    </tr>\n",
       "  </thead>\n",
       "  <tbody>\n",
       "    <tr>\n",
       "      <th>0</th>\n",
       "      <td>32</td>\n",
       "      <td>Male</td>\n",
       "      <td>Barchelor's Degree</td>\n",
       "      <td>Software Engineer</td>\n",
       "      <td>5.0</td>\n",
       "      <td>90000.0</td>\n",
       "    </tr>\n",
       "    <tr>\n",
       "      <th>1</th>\n",
       "      <td>28</td>\n",
       "      <td>Female</td>\n",
       "      <td>Master's Degree</td>\n",
       "      <td>Data Analyst</td>\n",
       "      <td>3.0</td>\n",
       "      <td>65000.0</td>\n",
       "    </tr>\n",
       "    <tr>\n",
       "      <th>2</th>\n",
       "      <td>45</td>\n",
       "      <td>Male</td>\n",
       "      <td>PhD</td>\n",
       "      <td>Senior Manager</td>\n",
       "      <td>15.0</td>\n",
       "      <td>150000.0</td>\n",
       "    </tr>\n",
       "    <tr>\n",
       "      <th>3</th>\n",
       "      <td>36</td>\n",
       "      <td>Female</td>\n",
       "      <td>Barchelor's Degree</td>\n",
       "      <td>Sales Associate</td>\n",
       "      <td>7.0</td>\n",
       "      <td>60000.0</td>\n",
       "    </tr>\n",
       "    <tr>\n",
       "      <th>4</th>\n",
       "      <td>52</td>\n",
       "      <td>Male</td>\n",
       "      <td>Master's Degree</td>\n",
       "      <td>Director</td>\n",
       "      <td>20.0</td>\n",
       "      <td>200000.0</td>\n",
       "    </tr>\n",
       "  </tbody>\n",
       "</table>\n",
       "</div>"
      ],
      "text/plain": [
       "   Age  Gender     Education Level          Job Title  Years of Experience  \\\n",
       "0   32    Male  Barchelor's Degree  Software Engineer                  5.0   \n",
       "1   28  Female     Master's Degree       Data Analyst                  3.0   \n",
       "2   45    Male                 PhD     Senior Manager                 15.0   \n",
       "3   36  Female  Barchelor's Degree    Sales Associate                  7.0   \n",
       "4   52    Male     Master's Degree           Director                 20.0   \n",
       "\n",
       "     Salary  \n",
       "0   90000.0  \n",
       "1   65000.0  \n",
       "2  150000.0  \n",
       "3   60000.0  \n",
       "4  200000.0  "
      ]
     },
     "execution_count": 3,
     "metadata": {},
     "output_type": "execute_result"
    }
   ],
   "source": [
    "salaries.head()"
   ]
  },
  {
   "cell_type": "markdown",
   "id": "2115e68c",
   "metadata": {},
   "source": [
    "### Number of Entries in the Data"
   ]
  },
  {
   "cell_type": "code",
   "execution_count": 4,
   "id": "29e85fcc",
   "metadata": {},
   "outputs": [
    {
     "name": "stdout",
     "output_type": "stream",
     "text": [
      "<class 'pandas.core.frame.DataFrame'>\n",
      "RangeIndex: 6702 entries, 0 to 6701\n",
      "Data columns (total 6 columns):\n",
      " #   Column               Non-Null Count  Dtype  \n",
      "---  ------               --------------  -----  \n",
      " 0   Age                  6702 non-null   int64  \n",
      " 1   Gender               6702 non-null   object \n",
      " 2   Education Level      6701 non-null   object \n",
      " 3   Job Title            6702 non-null   object \n",
      " 4   Years of Experience  6701 non-null   float64\n",
      " 5   Salary               6699 non-null   float64\n",
      "dtypes: float64(2), int64(1), object(3)\n",
      "memory usage: 314.3+ KB\n"
     ]
    }
   ],
   "source": [
    "salaries.info()"
   ]
  },
  {
   "cell_type": "markdown",
   "id": "01f36196",
   "metadata": {},
   "source": [
    "### Cleaning Data"
   ]
  },
  {
   "cell_type": "code",
   "execution_count": 5,
   "id": "0a30fa64",
   "metadata": {},
   "outputs": [
    {
     "data": {
      "text/plain": [
       "6702"
      ]
     },
     "execution_count": 5,
     "metadata": {},
     "output_type": "execute_result"
    }
   ],
   "source": [
    "len(salaries)"
   ]
  },
  {
   "cell_type": "code",
   "execution_count": 6,
   "id": "ba4d1b3f",
   "metadata": {},
   "outputs": [
    {
     "data": {
      "text/plain": [
       "Age                    0\n",
       "Gender                 0\n",
       "Education Level        1\n",
       "Job Title              0\n",
       "Years of Experience    1\n",
       "Salary                 3\n",
       "dtype: int64"
      ]
     },
     "execution_count": 6,
     "metadata": {},
     "output_type": "execute_result"
    }
   ],
   "source": [
    "salaries.isna().sum()"
   ]
  },
  {
   "cell_type": "code",
   "execution_count": 7,
   "id": "f9fc9684",
   "metadata": {},
   "outputs": [
    {
     "data": {
      "text/plain": [
       "Age                    0\n",
       "Gender                 0\n",
       "Education Level        1\n",
       "Job Title              0\n",
       "Years of Experience    0\n",
       "Salary                 0\n",
       "dtype: int64"
      ]
     },
     "execution_count": 7,
     "metadata": {},
     "output_type": "execute_result"
    }
   ],
   "source": [
    "# Drop the rows with no labels\n",
    "salaries.dropna(subset=['Salary'], inplace= True)\n",
    "salaries.isna().sum()"
   ]
  },
  {
   "cell_type": "code",
   "execution_count": 8,
   "id": "5ce752de",
   "metadata": {
    "scrolled": true
   },
   "outputs": [
    {
     "data": {
      "text/plain": [
       "array([['Male', \"Barchelor's Degree\", 'Software Engineer', 5.0, 32.0,\n",
       "        90000.0],\n",
       "       ['Female', \"Master's Degree\", 'Data Analyst', 3.0, 28.0, 65000.0],\n",
       "       ['Male', 'PhD', 'Senior Manager', 15.0, 45.0, 150000.0],\n",
       "       ...,\n",
       "       ['Female', \"Barchelor's Degree\", 'Financial Manager', 4.0, 30.0,\n",
       "        55000.0],\n",
       "       ['Male', \"Master's Degree\", 'Marketing Manager', 14.0, 46.0,\n",
       "        140000.0],\n",
       "       ['Female', 'High School', 'Sales Executive', 1.0, 26.0, 35000.0]],\n",
       "      dtype=object)"
      ]
     },
     "execution_count": 8,
     "metadata": {},
     "output_type": "execute_result"
    }
   ],
   "source": [
    "# Fill missing values with scikit-learn\n",
    "from sklearn.impute import SimpleImputer\n",
    "from sklearn.compose import ColumnTransformer\n",
    "\n",
    "# Fill categorical values with \"missing\" & numerical values with mean\n",
    "cat_imputer = SimpleImputer(strategy = \"constant\", fill_value=\"missing\")\n",
    "num_imputer = SimpleImputer(strategy = \"mean\")\n",
    "\n",
    "# Define columns\n",
    "cat_features = [\"Gender\", \"Education Level\", \"Job Title\"]\n",
    "num_features = [\"Years of Experience\", \"Age\", \"Salary\"]\n",
    "\n",
    "# Create an imputer (Something that fills missing data)\n",
    "imputer = ColumnTransformer([\n",
    "    (\"cat_imputer\", cat_imputer, cat_features),\n",
    "    (\"num_imputer\", num_imputer, num_features)\n",
    "])\n",
    "\n",
    "# Transform the data \n",
    "filled_x = imputer.fit_transform(salaries)\n",
    "\n",
    "filled_x"
   ]
  },
  {
   "cell_type": "code",
   "execution_count": 9,
   "id": "cc62d0c7",
   "metadata": {},
   "outputs": [
    {
     "data": {
      "text/html": [
       "<div>\n",
       "<style scoped>\n",
       "    .dataframe tbody tr th:only-of-type {\n",
       "        vertical-align: middle;\n",
       "    }\n",
       "\n",
       "    .dataframe tbody tr th {\n",
       "        vertical-align: top;\n",
       "    }\n",
       "\n",
       "    .dataframe thead th {\n",
       "        text-align: right;\n",
       "    }\n",
       "</style>\n",
       "<table border=\"1\" class=\"dataframe\">\n",
       "  <thead>\n",
       "    <tr style=\"text-align: right;\">\n",
       "      <th></th>\n",
       "      <th>Gender</th>\n",
       "      <th>Education Level</th>\n",
       "      <th>Job Title</th>\n",
       "      <th>Years of Experience</th>\n",
       "      <th>Age</th>\n",
       "      <th>Salary</th>\n",
       "    </tr>\n",
       "  </thead>\n",
       "  <tbody>\n",
       "    <tr>\n",
       "      <th>0</th>\n",
       "      <td>Male</td>\n",
       "      <td>Barchelor's Degree</td>\n",
       "      <td>Software Engineer</td>\n",
       "      <td>5.0</td>\n",
       "      <td>32.0</td>\n",
       "      <td>90000.0</td>\n",
       "    </tr>\n",
       "    <tr>\n",
       "      <th>1</th>\n",
       "      <td>Female</td>\n",
       "      <td>Master's Degree</td>\n",
       "      <td>Data Analyst</td>\n",
       "      <td>3.0</td>\n",
       "      <td>28.0</td>\n",
       "      <td>65000.0</td>\n",
       "    </tr>\n",
       "    <tr>\n",
       "      <th>2</th>\n",
       "      <td>Male</td>\n",
       "      <td>PhD</td>\n",
       "      <td>Senior Manager</td>\n",
       "      <td>15.0</td>\n",
       "      <td>45.0</td>\n",
       "      <td>150000.0</td>\n",
       "    </tr>\n",
       "    <tr>\n",
       "      <th>3</th>\n",
       "      <td>Female</td>\n",
       "      <td>Barchelor's Degree</td>\n",
       "      <td>Sales Associate</td>\n",
       "      <td>7.0</td>\n",
       "      <td>36.0</td>\n",
       "      <td>60000.0</td>\n",
       "    </tr>\n",
       "    <tr>\n",
       "      <th>4</th>\n",
       "      <td>Male</td>\n",
       "      <td>Master's Degree</td>\n",
       "      <td>Director</td>\n",
       "      <td>20.0</td>\n",
       "      <td>52.0</td>\n",
       "      <td>200000.0</td>\n",
       "    </tr>\n",
       "    <tr>\n",
       "      <th>...</th>\n",
       "      <td>...</td>\n",
       "      <td>...</td>\n",
       "      <td>...</td>\n",
       "      <td>...</td>\n",
       "      <td>...</td>\n",
       "      <td>...</td>\n",
       "    </tr>\n",
       "    <tr>\n",
       "      <th>6694</th>\n",
       "      <td>Female</td>\n",
       "      <td>PhD</td>\n",
       "      <td>Director of Marketing</td>\n",
       "      <td>20.0</td>\n",
       "      <td>49.0</td>\n",
       "      <td>200000.0</td>\n",
       "    </tr>\n",
       "    <tr>\n",
       "      <th>6695</th>\n",
       "      <td>Male</td>\n",
       "      <td>High School</td>\n",
       "      <td>Sales Associate</td>\n",
       "      <td>3.0</td>\n",
       "      <td>32.0</td>\n",
       "      <td>50000.0</td>\n",
       "    </tr>\n",
       "    <tr>\n",
       "      <th>6696</th>\n",
       "      <td>Female</td>\n",
       "      <td>Barchelor's Degree</td>\n",
       "      <td>Financial Manager</td>\n",
       "      <td>4.0</td>\n",
       "      <td>30.0</td>\n",
       "      <td>55000.0</td>\n",
       "    </tr>\n",
       "    <tr>\n",
       "      <th>6697</th>\n",
       "      <td>Male</td>\n",
       "      <td>Master's Degree</td>\n",
       "      <td>Marketing Manager</td>\n",
       "      <td>14.0</td>\n",
       "      <td>46.0</td>\n",
       "      <td>140000.0</td>\n",
       "    </tr>\n",
       "    <tr>\n",
       "      <th>6698</th>\n",
       "      <td>Female</td>\n",
       "      <td>High School</td>\n",
       "      <td>Sales Executive</td>\n",
       "      <td>1.0</td>\n",
       "      <td>26.0</td>\n",
       "      <td>35000.0</td>\n",
       "    </tr>\n",
       "  </tbody>\n",
       "</table>\n",
       "<p>6699 rows × 6 columns</p>\n",
       "</div>"
      ],
      "text/plain": [
       "      Gender     Education Level              Job Title Years of Experience  \\\n",
       "0       Male  Barchelor's Degree      Software Engineer                 5.0   \n",
       "1     Female     Master's Degree           Data Analyst                 3.0   \n",
       "2       Male                 PhD         Senior Manager                15.0   \n",
       "3     Female  Barchelor's Degree        Sales Associate                 7.0   \n",
       "4       Male     Master's Degree               Director                20.0   \n",
       "...      ...                 ...                    ...                 ...   \n",
       "6694  Female                 PhD  Director of Marketing                20.0   \n",
       "6695    Male         High School        Sales Associate                 3.0   \n",
       "6696  Female  Barchelor's Degree      Financial Manager                 4.0   \n",
       "6697    Male     Master's Degree      Marketing Manager                14.0   \n",
       "6698  Female         High School        Sales Executive                 1.0   \n",
       "\n",
       "       Age    Salary  \n",
       "0     32.0   90000.0  \n",
       "1     28.0   65000.0  \n",
       "2     45.0  150000.0  \n",
       "3     36.0   60000.0  \n",
       "4     52.0  200000.0  \n",
       "...    ...       ...  \n",
       "6694  49.0  200000.0  \n",
       "6695  32.0   50000.0  \n",
       "6696  30.0   55000.0  \n",
       "6697  46.0  140000.0  \n",
       "6698  26.0   35000.0  \n",
       "\n",
       "[6699 rows x 6 columns]"
      ]
     },
     "execution_count": 9,
     "metadata": {},
     "output_type": "execute_result"
    }
   ],
   "source": [
    "new_salary_data = pd.DataFrame(filled_x,\n",
    "                                columns=[\"Gender\", \"Education Level\", \"Job Title\", \"Years of Experience\", \"Age\", \"Salary\"])\n",
    "new_salary_data"
   ]
  },
  {
   "cell_type": "markdown",
   "id": "b69ce681",
   "metadata": {},
   "source": [
    "## Data Analysis"
   ]
  },
  {
   "cell_type": "code",
   "execution_count": 10,
   "id": "d53f873b",
   "metadata": {},
   "outputs": [
    {
     "data": {
      "text/plain": [
       "115326.96477086132"
      ]
     },
     "execution_count": 10,
     "metadata": {},
     "output_type": "execute_result"
    }
   ],
   "source": [
    "# Average Salary given to each staff\n",
    "\n",
    "new_salary_data['Salary'].mean()"
   ]
  },
  {
   "cell_type": "code",
   "execution_count": 11,
   "id": "0e08a166",
   "metadata": {},
   "outputs": [
    {
     "data": {
      "text/plain": [
       "350.0"
      ]
     },
     "execution_count": 11,
     "metadata": {},
     "output_type": "execute_result"
    }
   ],
   "source": [
    "# Minimum Salary Earned\n",
    "\n",
    "new_salary_data['Salary'].min() "
   ]
  },
  {
   "cell_type": "code",
   "execution_count": 12,
   "id": "db1c6e77",
   "metadata": {},
   "outputs": [
    {
     "data": {
      "text/plain": [
       "250000.0"
      ]
     },
     "execution_count": 12,
     "metadata": {},
     "output_type": "execute_result"
    }
   ],
   "source": [
    "# Maximum Salary Earned\n",
    "\n",
    "new_salary_data['Salary'].max()"
   ]
  },
  {
   "cell_type": "code",
   "execution_count": 13,
   "id": "7a246aeb",
   "metadata": {},
   "outputs": [
    {
     "name": "stdout",
     "output_type": "stream",
     "text": [
      "Highest paid staffs per Gender\n",
      "Female    220000.0\n",
      "Male      250000.0\n",
      "Other     166109.0\n",
      "Name: Salary, dtype: object\n"
     ]
    }
   ],
   "source": [
    "# Highest Paid Salary by Gender\n",
    "\n",
    "Max = new_salary_data.groupby('Gender')['Salary'].max()\n",
    "\n",
    "print (\"Highest paid staffs per\", Max)"
   ]
  },
  {
   "cell_type": "code",
   "execution_count": 14,
   "id": "c1e26e77",
   "metadata": {},
   "outputs": [
    {
     "name": "stdout",
     "output_type": "stream",
     "text": [
      "lowest paid staffs per Gender\n",
      "Female      500.0\n",
      "Male        350.0\n",
      "Other     62852.0\n",
      "Name: Salary, dtype: object\n"
     ]
    }
   ],
   "source": [
    "# Lowest Paid Salary by Gender\n",
    "\n",
    "Min = new_salary_data.groupby('Gender')['Salary'].min()\n",
    "\n",
    "print (\"lowest paid staffs per\", Min)"
   ]
  },
  {
   "cell_type": "markdown",
   "id": "68f3580e",
   "metadata": {},
   "source": [
    "## Visual Representation of Gender Distribution"
   ]
  },
  {
   "cell_type": "code",
   "execution_count": 15,
   "id": "b15cf944",
   "metadata": {},
   "outputs": [
    {
     "data": {
      "text/plain": [
       "<Axes: xlabel='Gender', ylabel='count'>"
      ]
     },
     "execution_count": 15,
     "metadata": {},
     "output_type": "execute_result"
    },
    {
     "data": {
      "image/png": "[encoded data removed]",
      "text/plain": [
       "<Figure size 640x480 with 1 Axes>"
      ]
     },
     "metadata": {},
     "output_type": "display_data"
    }
   ],
   "source": [
    "sns.countplot(x = \"Gender\", data = new_salary_data)"
   ]
  },
  {
   "cell_type": "code",
   "execution_count": 16,
   "id": "191b67dd",
   "metadata": {},
   "outputs": [
    {
     "data": {
      "text/plain": [
       "Gender\n",
       "Female    107888.998672\n",
       "Male      121389.870915\n",
       "Other     125869.857143\n",
       "Name: Salary, dtype: object"
      ]
     },
     "execution_count": 16,
     "metadata": {},
     "output_type": "execute_result"
    }
   ],
   "source": [
    "## Average Salary by Gender\n",
    "\n",
    "Sal_sex = new_salary_data.groupby('Gender')['Salary'].mean()\n",
    "Sal_sex"
   ]
  },
  {
   "cell_type": "markdown",
   "id": "287c129f",
   "metadata": {},
   "source": [
    "## Visualization of Average Salary Earned by Gender"
   ]
  },
  {
   "cell_type": "code",
   "execution_count": 17,
   "id": "e1210beb",
   "metadata": {
    "scrolled": true
   },
   "outputs": [
    {
     "data": {
      "text/plain": [
       "<Axes: xlabel='Gender', ylabel='Salary'>"
      ]
     },
     "execution_count": 17,
     "metadata": {},
     "output_type": "execute_result"
    },
    {
     "data": {
      "image/png": "[encoded data removed]",
      "text/plain": [
       "<Figure size 640x480 with 1 Axes>"
      ]
     },
     "metadata": {},
     "output_type": "display_data"
    }
   ],
   "source": [
    "sns.barplot(x = \"Gender\", y = \"Salary\", data = new_salary_data)"
   ]
  },
  {
   "cell_type": "markdown",
   "id": "42428fab",
   "metadata": {},
   "source": [
    "## Visualization of Years of Experience with Salary"
   ]
  },
  {
   "cell_type": "code",
   "execution_count": 18,
   "id": "0cf69db6",
   "metadata": {},
   "outputs": [
    {
     "data": {
      "text/plain": [
       "<Axes: xlabel='Years of Experience', ylabel='Salary'>"
      ]
     },
     "execution_count": 18,
     "metadata": {},
     "output_type": "execute_result"
    },
    {
     "data": {
      "image/png": "[encoded data removed]",
      "text/plain": [
       "<Figure size 640x480 with 1 Axes>"
      ]
     },
     "metadata": {},
     "output_type": "display_data"
    }
   ],
   "source": [
    "sns.scatterplot(x= \"Years of Experience\", y= \"Salary\", data = new_salary_data)"
   ]
  },
  {
   "cell_type": "markdown",
   "id": "d6e33d84",
   "metadata": {},
   "source": [
    "## Average Salary Earned by Educational Level "
   ]
  },
  {
   "cell_type": "code",
   "execution_count": 19,
   "id": "cfdb61a8",
   "metadata": {},
   "outputs": [
    {
     "data": {
      "text/plain": [
       "<Axes: xlabel='Education Level', ylabel='Salary'>"
      ]
     },
     "execution_count": 19,
     "metadata": {},
     "output_type": "execute_result"
    },
    {
     "data": {
      "image/png": "[encoded data removed]",
      "text/plain": [
       "<Figure size 640x480 with 1 Axes>"
      ]
     },
     "metadata": {},
     "output_type": "display_data"
    }
   ],
   "source": [
    "sns.barplot(x = \"Education Level\", y = \"Salary\", data = new_salary_data)"
   ]
  },
  {
   "cell_type": "markdown",
   "id": "88f0e781",
   "metadata": {},
   "source": [
    "## Average Salary by age"
   ]
  },
  {
   "cell_type": "code",
   "execution_count": 20,
   "id": "a0c32361",
   "metadata": {},
   "outputs": [
    {
     "data": {
      "text/plain": [
       "<Axes: xlabel='Age', ylabel='Salary'>"
      ]
     },
     "execution_count": 20,
     "metadata": {},
     "output_type": "execute_result"
    },
    {
     "data": {
      "image/png": "[encoded data removed]",
      "text/plain": [
       "<Figure size 640x480 with 1 Axes>"
      ]
     },
     "metadata": {},
     "output_type": "display_data"
    }
   ],
   "source": [
    "sns.scatterplot(x= \"Age\", y= \"Salary\", data = new_salary_data)"
   ]
  },
  {
   "cell_type": "code",
   "execution_count": 21,
   "id": "3824f3db",
   "metadata": {},
   "outputs": [
    {
     "data": {
      "image/png": "[encoded data removed]",
      "text/plain": [
       "<Figure size 640x480 with 1 Axes>"
      ]
     },
     "metadata": {},
     "output_type": "display_data"
    }
   ],
   "source": [
    "# Age Distribution\n",
    "new_salary_data.Age.plot.hist();"
   ]
  },
  {
   "cell_type": "markdown",
   "id": "296dff1c",
   "metadata": {},
   "source": [
    "## Creating a Model"
   ]
  },
  {
   "cell_type": "code",
   "execution_count": 22,
   "id": "5cf91bde",
   "metadata": {},
   "outputs": [],
   "source": [
    "# Models from Scikit Learn\n",
    "from sklearn.linear_model import Ridge\n",
    "from sklearn.linear_model import Lasso\n",
    "from sklearn.linear_model import LinearRegression\n",
    "from sklearn.ensemble import RandomForestRegressor\n",
    "\n",
    "# Model Evaluators\n",
    "from sklearn.model_selection import train_test_split, cross_val_score\n",
    "from sklearn.model_selection import RandomizedSearchCV, GridSearchCV\n",
    "from sklearn.metrics import precision_score, recall_score, f1_score\n",
    "from sklearn.metrics import r2_score, mean_absolute_error, mean_squared_error\n",
    "from sklearn.metrics import accuracy_score\n",
    "from sklearn.metrics import confusion_matrix, classification_report\n"
   ]
  },
  {
   "cell_type": "code",
   "execution_count": 23,
   "id": "1d482a0f",
   "metadata": {},
   "outputs": [],
   "source": [
    "# Make the data\n",
    "X = new_salary_data.drop(\"Salary\", axis = 1)\n",
    "y = new_salary_data[\"Salary\"]"
   ]
  },
  {
   "cell_type": "code",
   "execution_count": 24,
   "id": "afcc0f43",
   "metadata": {},
   "outputs": [
    {
     "data": {
      "text/plain": [
       "<6699x203 sparse matrix of type '<class 'numpy.float64'>'\n",
       "\twith 40074 stored elements in Compressed Sparse Row format>"
      ]
     },
     "execution_count": 24,
     "metadata": {},
     "output_type": "execute_result"
    }
   ],
   "source": [
    "# # Turn the categories into numbers\n",
    "\n",
    "from sklearn.preprocessing import OneHotEncoder\n",
    "from sklearn.compose import ColumnTransformer\n",
    "\n",
    "categorical_features = [\"Gender\", \"Job Title\", \"Education Level\"]\n",
    "one_hot = OneHotEncoder()\n",
    "transformer = ColumnTransformer([(\"one_hot\",\n",
    "                                   one_hot,\n",
    "                                   categorical_features)],\n",
    "                                   remainder=\"passthrough\")\n",
    "\n",
    "transformed_x = transformer.fit_transform(new_salary_data)\n",
    "transformed_x"
   ]
  },
  {
   "cell_type": "code",
   "execution_count": 25,
   "id": "82c883cf",
   "metadata": {},
   "outputs": [],
   "source": [
    "new_salary = transformed_x"
   ]
  },
  {
   "cell_type": "code",
   "execution_count": 26,
   "id": "c8b17528",
   "metadata": {},
   "outputs": [],
   "source": [
    "# Split data into train and test sets\n",
    "np.random.seed(42)\n",
    "\n",
    "# Split into train & test set\n",
    "X_train, X_test, y_train, y_test = train_test_split(new_salary,\n",
    "                                                    y,\n",
    "                                                    test_size=0.3)"
   ]
  },
  {
   "cell_type": "code",
   "execution_count": 27,
   "id": "81008389",
   "metadata": {},
   "outputs": [
    {
     "data": {
      "text/plain": [
       "(4264     26000.0\n",
       " 5184     60000.0\n",
       " 838     110000.0\n",
       " 1087    100000.0\n",
       " 5250    185000.0\n",
       "           ...   \n",
       " 3772    110000.0\n",
       " 5191    150000.0\n",
       " 5226    120000.0\n",
       " 5390    120000.0\n",
       " 860     110000.0\n",
       " Name: Salary, Length: 4689, dtype: object,\n",
       " 4689)"
      ]
     },
     "execution_count": 27,
     "metadata": {},
     "output_type": "execute_result"
    }
   ],
   "source": [
    "y_train, len(y_train)"
   ]
  },
  {
   "cell_type": "markdown",
   "id": "9be05d37",
   "metadata": {},
   "source": [
    "Now we've got our data split into training and test sets, it's time to build a machine learning model.\n",
    "\n",
    "We'll train it (find the patterns) on the training set.\n",
    "\n",
    "And we'll test it (use the patterns) on the test set.\n",
    "\n",
    "We're going to try 3 different machine learning models:\n",
    "* Linear Regression\n",
    "* Ridge Regression\n",
    "* Lasso Regression"
   ]
  },
  {
   "cell_type": "code",
   "execution_count": 28,
   "id": "8d967665",
   "metadata": {},
   "outputs": [],
   "source": [
    "# Put models in a dictionary\n",
    "models = {\"Ridge Regression\": Ridge(),\n",
    "          \"Linear Regression\": LinearRegression(), \n",
    "          \"Lasso Regression\": Lasso(),\n",
    "          \"Random Forest Regression\": RandomForestRegressor()}\n",
    "\n",
    "# Create function to fit and score models\n",
    "def fit_and_score(models, X_train, X_test, y_train, y_test):\n",
    "    \"\"\"\n",
    "    Fits and evaluates given machine learning models.\n",
    "    models : a dict of different Scikit-Learn machine learning models\n",
    "    X_train : training data\n",
    "    X_test : testing data\n",
    "    y_train : labels assosciated with training data\n",
    "    y_test : labels assosciated with test data\n",
    "    \"\"\"\n",
    "    \n",
    "    # Random seed for reproducible results\n",
    "    np.random.seed(42)\n",
    "    # Make a list to keep model scores\n",
    "    model_scores = {}\n",
    "    # Loop through models\n",
    "    for name, model in models.items():\n",
    "        # Fit the model to the data\n",
    "        model.fit(X_train, y_train)\n",
    "        # Evaluate the model and append its score to model_scores\n",
    "        model_scores[name] = model.score(X_test, y_test)\n",
    "    return model_scores"
   ]
  },
  {
   "cell_type": "code",
   "execution_count": 29,
   "id": "514621c6",
   "metadata": {},
   "outputs": [
    {
     "data": {
      "text/plain": [
       "{'Ridge Regression': 0.9999999999999998,\n",
       " 'Linear Regression': 0.9999999999999998,\n",
       " 'Lasso Regression': 1.0,\n",
       " 'Random Forest Regression': 0.9999003069859737}"
      ]
     },
     "execution_count": 29,
     "metadata": {},
     "output_type": "execute_result"
    }
   ],
   "source": [
    "model_scores = fit_and_score(models=models,\n",
    "                             X_train=X_train,\n",
    "                             X_test=X_test,\n",
    "                             y_train=y_train,\n",
    "                             y_test=y_test)\n",
    "model_scores"
   ]
  },
  {
   "cell_type": "markdown",
   "id": "5550db38",
   "metadata": {},
   "source": [
    "### Model Comparison"
   ]
  },
  {
   "cell_type": "code",
   "execution_count": 36,
   "id": "002f4ddc",
   "metadata": {},
   "outputs": [
    {
     "data": {
      "image/png": "[encoded data removed]",
      "text/plain": [
       "<Figure size 640x480 with 1 Axes>"
      ]
     },
     "metadata": {},
     "output_type": "display_data"
    }
   ],
   "source": [
    "model_compare = pd.DataFrame(model_scores, index=['accuracy'])\n",
    "model_compare.T.plot.bar();"
   ]
  },
  {
   "cell_type": "markdown",
   "id": "bb6efa22",
   "metadata": {},
   "source": []
  },
  {
   "cell_type": "markdown",
   "id": "5fb83a6d",
   "metadata": {},
   "source": [
    "## Model Evaluation\n",
    "\n",
    "We'll be using the following evaluation metrics for our regression model:\n",
    "\n",
    "* R^2\n",
    "* Mean absolute\n",
    "* Mean squared error"
   ]
  },
  {
   "cell_type": "code",
   "execution_count": 60,
   "id": "67857758",
   "metadata": {},
   "outputs": [],
   "source": [
    "# Evaluatiom Linear Regression\n",
    "model = LinearRegression()\n",
    "\n",
    "model.fit(X_train, y_train);"
   ]
  },
  {
   "cell_type": "code",
   "execution_count": 61,
   "id": "56afb612",
   "metadata": {},
   "outputs": [
    {
     "data": {
      "text/plain": [
       "0.9999999999999998"
      ]
     },
     "execution_count": 61,
     "metadata": {},
     "output_type": "execute_result"
    }
   ],
   "source": [
    "model.score(X_train, y_train)"
   ]
  },
  {
   "cell_type": "code",
   "execution_count": 62,
   "id": "0cdce211",
   "metadata": {},
   "outputs": [],
   "source": [
    "y_predicted = model.predict(X_test)"
   ]
  },
  {
   "cell_type": "code",
   "execution_count": 63,
   "id": "2d594a7a",
   "metadata": {},
   "outputs": [
    {
     "name": "stdout",
     "output_type": "stream",
     "text": [
      "The model performance for training set\n",
      "-----------------------\n",
      "MAE is 0.0006649831596198973\n",
      "MSE is 7.599196785894019e-07\n",
      "r2 score is 0.9999999999999998\n"
     ]
    }
   ],
   "source": [
    "mae = mean_absolute_error(y_test, y_predicted)\n",
    "mse = mean_squared_error(y_test, y_predicted)\n",
    "r2 = r2_score(y_test, y_predicted)\n",
    "\n",
    "print(\"The model performance for training set\")\n",
    "print(\"-----------------------\")\n",
    "print('MAE is {}'.format(mae))\n",
    "print('MSE is {}'.format(mse))\n",
    "print('r2 score is {}'.format(r2))"
   ]
  },
  {
   "cell_type": "code",
   "execution_count": 64,
   "id": "7a4a061b",
   "metadata": {},
   "outputs": [],
   "source": [
    "## Evaluating Random Forest Regression\n",
    "\n",
    "model_1 = RandomForestRegressor()\n",
    "\n",
    "model_1.fit(X_train, y_train);"
   ]
  },
  {
   "cell_type": "code",
   "execution_count": 66,
   "id": "678ec8c0",
   "metadata": {},
   "outputs": [
    {
     "data": {
      "text/plain": [
       "0.999995765224665"
      ]
     },
     "execution_count": 66,
     "metadata": {},
     "output_type": "execute_result"
    }
   ],
   "source": [
    "model_1.score(X_train, y_train)"
   ]
  },
  {
   "cell_type": "code",
   "execution_count": 67,
   "id": "d057ab76",
   "metadata": {},
   "outputs": [],
   "source": [
    "y_predicted_1 = model_1.predict(X_test)"
   ]
  },
  {
   "cell_type": "code",
   "execution_count": 68,
   "id": "0ce27e6c",
   "metadata": {},
   "outputs": [
    {
     "name": "stdout",
     "output_type": "stream",
     "text": [
      "The model performance for training set\n",
      "-----------------------\n",
      "MAE is 32.30003980099501\n",
      "MSE is 271049.9425904477\n",
      "r2 score is 0.9999036714738501\n"
     ]
    }
   ],
   "source": [
    "mae = mean_absolute_error(y_test, y_predicted_1)\n",
    "mse = mean_squared_error(y_test, y_predicted_1)\n",
    "r2 = r2_score(y_test, y_predicted_1)\n",
    "\n",
    "print(\"The model performance for training set\")\n",
    "print(\"-----------------------\")\n",
    "print('MAE is {}'.format(mae))\n",
    "print('MSE is {}'.format(mse))\n",
    "print('r2 score is {}'.format(r2))"
   ]
  },
  {
   "cell_type": "code",
   "execution_count": 69,
   "id": "f6b62afe",
   "metadata": {},
   "outputs": [],
   "source": [
    "## Evaluating Ridge Regression\n",
    "\n",
    "model_2 = Ridge()\n",
    "\n",
    "model_2.fit(X_train, y_train);"
   ]
  },
  {
   "cell_type": "code",
   "execution_count": 70,
   "id": "e4a4d0e3",
   "metadata": {},
   "outputs": [
    {
     "data": {
      "text/plain": [
       "0.9999999999999998"
      ]
     },
     "execution_count": 70,
     "metadata": {},
     "output_type": "execute_result"
    }
   ],
   "source": [
    "model_2.score(X_train, y_train)"
   ]
  },
  {
   "cell_type": "code",
   "execution_count": 71,
   "id": "90f168f1",
   "metadata": {},
   "outputs": [],
   "source": [
    "y_predicted_2 = model_2.predict(X_test)"
   ]
  },
  {
   "cell_type": "code",
   "execution_count": 72,
   "id": "eb5fa109",
   "metadata": {},
   "outputs": [
    {
     "name": "stdout",
     "output_type": "stream",
     "text": [
      "The model performance for training set\n",
      "-----------------------\n",
      "MAE is 0.0006649834589932005\n",
      "MSE is 7.599196963039639e-07\n",
      "r2 score is 0.9999999999999998\n"
     ]
    }
   ],
   "source": [
    "mae = mean_absolute_error(y_test, y_predicted_2)\n",
    "mse = mean_squared_error(y_test, y_predicted_2)\n",
    "r2 = r2_score(y_test, y_predicted_2)\n",
    "\n",
    "print(\"The model performance for training set\")\n",
    "print(\"-----------------------\")\n",
    "print('MAE is {}'.format(mae))\n",
    "print('MSE is {}'.format(mse))\n",
    "print('r2 score is {}'.format(r2))"
   ]
  },
  {
   "cell_type": "code",
   "execution_count": 74,
   "id": "780f3c43",
   "metadata": {},
   "outputs": [],
   "source": [
    "## Evaluating Ridge Regression\n",
    "\n",
    "model_3 = Ridge()\n",
    "\n",
    "model_3.fit(X_train, y_train);"
   ]
  },
  {
   "cell_type": "code",
   "execution_count": 75,
   "id": "45a023bc",
   "metadata": {},
   "outputs": [
    {
     "data": {
      "text/plain": [
       "0.9999999999999998"
      ]
     },
     "execution_count": 75,
     "metadata": {},
     "output_type": "execute_result"
    }
   ],
   "source": [
    "model_3.score(X_train, y_train)"
   ]
  },
  {
   "cell_type": "code",
   "execution_count": 76,
   "id": "d0c08a1d",
   "metadata": {},
   "outputs": [],
   "source": [
    "y_predicted_3 = model_3.predict(X_test)"
   ]
  },
  {
   "cell_type": "code",
   "execution_count": 77,
   "id": "77e24253",
   "metadata": {},
   "outputs": [
    {
     "name": "stdout",
     "output_type": "stream",
     "text": [
      "The model performance for training set\n",
      "-----------------------\n",
      "MAE is 0.0006649834589932005\n",
      "MSE is 7.599196963039639e-07\n",
      "r2 score is 0.9999999999999998\n"
     ]
    }
   ],
   "source": [
    "mae = mean_absolute_error(y_test, y_predicted_3)\n",
    "mse = mean_squared_error(y_test, y_predicted_3)\n",
    "r2 = r2_score(y_test, y_predicted_3)\n",
    "\n",
    "print(\"The model performance for training set\")\n",
    "print(\"-----------------------\")\n",
    "print('MAE is {}'.format(mae))\n",
    "print('MSE is {}'.format(mse))\n",
    "print('r2 score is {}'.format(r2))"
   ]
  },
  {
   "cell_type": "code",
   "execution_count": null,
   "id": "1448f643",
   "metadata": {},
   "outputs": [],
   "source": []
  }
 ],
 "metadata": {
  "kernelspec": {
   "display_name": "Python 3 (ipykernel)",
   "language": "python",
   "name": "python3"
  },
  "language_info": {
   "codemirror_mode": {
    "name": "ipython",
    "version": 3
   },
   "file_extension": ".py",
   "mimetype": "text/x-python",
   "name": "python",
   "nbconvert_exporter": "python",
   "pygments_lexer": "ipython3",
   "version": "3.11.5"
  }
 },
 "nbformat": 4,
 "nbformat_minor": 5
}
